{
  "nbformat": 4,
  "nbformat_minor": 0,
  "metadata": {
    "colab": {
      "provenance": []
    },
    "kernelspec": {
      "name": "python3",
      "display_name": "Python 3"
    },
    "language_info": {
      "name": "python"
    }
  },
  "cells": [
    {
      "cell_type": "code",
      "source": [
        "def caesar_cipher(text, shift, decrypt=False):\n",
        "    result = ''\n",
        "    for char in text:\n",
        "        if char.isalpha():\n",
        "            base = ord('a') if char.islower() else ord('A')\n",
        "            shifted = (ord(char) - base + shift) % 26 if not decrypt else (ord(char) - base - shift) % 26\n",
        "            result += chr(base + shifted)\n",
        "        else:\n",
        "            result += char\n",
        "    return result\n",
        "#\n",
        "def main():\n",
        "    while True:\n",
        "        choice = input(\"Enter 'e' to encryption or 'd' to decryption: \").lower()\n",
        "        if choice not in ['e', 'd']:\n",
        "            print(\"Invalid input. Please enter 'e' or 'd'.\")\n",
        "            continue\n",
        "\n",
        "        message = input(\"Enter the message: \")\n",
        "        shift = int(input(\"Enter the shift value: \"))\n",
        "\n",
        "        if choice == 'e':\n",
        "            encrypted_message = caesar_cipher(message, shift)\n",
        "            print(\"Encrypted message:\", encrypted_message)\n",
        "        else:\n",
        "            decrypted_message = caesar_cipher(message, shift, decrypt=True)\n",
        "            print(\"Decrypted message:\", decrypted_message)\n",
        "\n",
        "        again = input(\"Do you want to perform another operation? (yes/no): \").lower()\n",
        "        if again != 'yes':\n",
        "            break\n",
        "\n",
        "if __name__ == \"__main__\":\n",
        "    main()\n"
      ],
      "metadata": {
        "id": "p62PCQMbqoDT",
        "outputId": "5acca4c3-029e-42b5-d2e3-bd696628f82a",
        "colab": {
          "base_uri": "https://localhost:8080/"
        }
      },
      "execution_count": null,
      "outputs": [
        {
          "name": "stdout",
          "output_type": "stream",
          "text": [
            "Enter 'e' to encryption or 'd' to decryption: e\n",
            "Enter the message: boopathirajv\n",
            "Enter the shift value: 22\n",
            "Encrypted message: xkklwpdenwfr\n",
            "Do you want to perform another operation? (yes/no): no\n"
          ]
        }
      ]
    }
  ]
}